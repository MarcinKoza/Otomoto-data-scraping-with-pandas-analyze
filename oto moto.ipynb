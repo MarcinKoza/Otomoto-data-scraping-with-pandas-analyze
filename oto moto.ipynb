{
 "cells": [
  {
   "cell_type": "code",
   "execution_count": 1,
   "id": "58aed245",
   "metadata": {},
   "outputs": [],
   "source": [
    "import aiohttp\n",
    "import asyncio\n",
    "import time\n",
    "import json\n",
    "import pandas as pd\n",
    "from bs4 import BeautifulSoup\n",
    "import lxml"
   ]
  },
  {
   "cell_type": "code",
   "execution_count": 87,
   "id": "2b4d10c9",
   "metadata": {},
   "outputs": [
    {
     "name": "stdout",
     "output_type": "stream",
     "text": [
      "100 pages completed\n",
      "100 pages completed\n",
      "100 pages completed\n",
      "100 pages completed\n",
      "100 pages completed\n",
      "--- 69.17419004440308 seconds ---\n"
     ]
    }
   ],
   "source": [
    "async def get_item_data(session, url):\n",
    "    async with session.get(url) as resp:\n",
    "        site_data = await resp.read()\n",
    "        return site_data\n",
    "\n",
    "\n",
    "async def main():\n",
    "    \n",
    "    with open(f'otomototabela.csv', 'w') as f:\n",
    "        column_labels='auto'+',model'+',cena'+',rok_produkcji'+',przebieg'+',poj_silnika'+',rodzaj_paliwa'+'\\n'\n",
    "        f.writelines(column_labels)\n",
    "    a=0\n",
    "    ranges=[(range(a,a+100)),(range(a+100,a+200)),(range(a+200,a+300)),(range(a+300,a+400)),(range(a+400,a+500))]\n",
    "    a+=100\n",
    "    for seq in ranges:\n",
    "\n",
    "        async with aiohttp.ClientSession() as session:\n",
    "            tasks = []\n",
    "            for number in seq:\n",
    "                url = f'https://www.otomoto.pl/osobowe?page={number}'\n",
    "                #print(url)\n",
    "                tasks.append(asyncio.ensure_future(get_item_data(session, url)))\n",
    "            oto_moto_page = await asyncio.gather(*tasks)\n",
    "\n",
    "\n",
    "\n",
    "            with open(f'otomototabela.csv', 'a') as f:\n",
    "                for page in oto_moto_page:\n",
    "                    page=BeautifulSoup(page,features='html5')\n",
    "                    for article in page.find_all('article'):\n",
    "                        try:\n",
    "                            f.writelines(article.h2.a.text+\"|\"+article.div.p.text+\"|\"+article.find_all('div')[5].div.span.text+\"|\"+article.div.ul.find_all('li')[0].text+\"|\"+article.div.ul.find_all('li')[1].text+\"|\"+article.div.ul.find_all('li')[2].text+\"|\"+article.div.ul.find_all('li')[3].text+'\\n')\n",
    "                        except:\n",
    "                            continue\n",
    "        print(a,'pages completed')\n",
    "\n",
    "start_time=time.time()\n",
    "await main()\n",
    "print(\"--- %s seconds ---\" % (time.time() - start_time))"
   ]
  },
  {
   "cell_type": "code",
   "execution_count": null,
   "id": "8625122f",
   "metadata": {},
   "outputs": [],
   "source": []
  },
  {
   "cell_type": "code",
   "execution_count": null,
   "id": "a59af1a7",
   "metadata": {},
   "outputs": [],
   "source": []
  }
 ],
 "metadata": {
  "kernelspec": {
   "display_name": "Python 3 (ipykernel)",
   "language": "python",
   "name": "python3"
  },
  "language_info": {
   "codemirror_mode": {
    "name": "ipython",
    "version": 3
   },
   "file_extension": ".py",
   "mimetype": "text/x-python",
   "name": "python",
   "nbconvert_exporter": "python",
   "pygments_lexer": "ipython3",
   "version": "3.8.13"
  }
 },
 "nbformat": 4,
 "nbformat_minor": 5
}
